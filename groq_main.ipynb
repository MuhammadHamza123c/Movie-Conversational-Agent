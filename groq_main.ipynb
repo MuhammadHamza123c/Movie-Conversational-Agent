{
 "cells": [
  {
   "cell_type": "code",
   "execution_count": 1,
   "id": "662f12fd",
   "metadata": {},
   "outputs": [
    {
     "name": "stdout",
     "output_type": "stream",
     "text": [
      "GROQ_CONVO\n"
     ]
    }
   ],
   "source": [
    "print(\"GROQ_CONVO\")"
   ]
  },
  {
   "cell_type": "code",
   "execution_count": 2,
   "id": "7e20fbb6",
   "metadata": {},
   "outputs": [
    {
     "data": {
      "text/plain": [
       "True"
      ]
     },
     "execution_count": 2,
     "metadata": {},
     "output_type": "execute_result"
    }
   ],
   "source": [
    "from langchain_groq import ChatGroq\n",
    "from dotenv import load_dotenv\n",
    "import os\n",
    "load_dotenv()"
   ]
  },
  {
   "cell_type": "code",
   "execution_count": 3,
   "id": "aa9de252",
   "metadata": {},
   "outputs": [],
   "source": [
    "GROQ_API_KEY=os.getenv(\"GROQ_API_KEY\")"
   ]
  },
  {
   "cell_type": "code",
   "execution_count": 4,
   "id": "a829edf3",
   "metadata": {},
   "outputs": [],
   "source": [
    "llm=ChatGroq(\n",
    "    model='deepseek-r1-distill-llama-70b',\n",
    "    temperature=0.4\n",
    ")"
   ]
  },
  {
   "cell_type": "code",
   "execution_count": 7,
   "id": "9d87cfe4",
   "metadata": {},
   "outputs": [
    {
     "data": {
      "text/plain": [
       "'<think>\\n\\n</think>\\n\\nMachine Learning (ML) is a subset of artificial intelligence that involves the use of algorithms and statistical models to enable machines to perform a specific task without using explicit instructions, instead relying on patterns and inference. Here are some key aspects of ML:\\n\\n1. **Types of Machine Learning**:\\n   - **Supervised Learning**: The model is trained on labeled data, meaning the data is already tagged with the correct output. Examples include classification (e.g., spam detection) and regression (e.g., predicting house prices).\\n   - **Unsupervised Learning**: The model is trained on unlabeled data and aims to find patterns or intrinsic structures in the data. Examples include clustering (e.g., customer segmentation) and dimensionality reduction (e.g., PCA).\\n   - **Semi-Supervised Learning**: Combines both labeled and unlabeled data for training.\\n   - **Reinforcement Learning**: The model learns by interacting with an environment and receiving rewards or penalties for actions. Examples include game playing (e.g., AlphaGo) and robotics.\\n\\n2. **Machine Learning Workflow**:\\n   - **Data Collection**: Gathering the data relevant to the problem.\\n   - **Data Preprocessing**: Cleaning, transforming, and preparing the data for training.\\n   - **Model Selection**: Choosing an appropriate algorithm based on the problem type and data characteristics.\\n   - **Training**: Using the selected algorithm to learn from the data.\\n   - **Evaluation**: Assessing the performance of the trained model, often using metrics specific to the task.\\n   - **Deployment**: Putting the model into production to make predictions or decisions.\\n\\n3. **Common Algorithms**:\\n   - **Linear Regression**: For predicting continuous outcomes.\\n   - **Logistic Regression**: For binary classification problems.\\n   - **Decision Trees**: For both classification and regression, often used in ensemble methods like Random Forests.\\n   - **Support Vector Machines (SVMs)**: For classification and regression, particularly effective in high-dimensional spaces.\\n   - **Neural Networks**: Complex models capable of learning non-linear relationships, including deep learning architectures like CNNs and RNNs.\\n\\n4. **Applications**:\\n   - **Natural Language Processing (NLP)**: Text classification, sentiment analysis, machine translation.\\n   - **Computer Vision**: Image classification, object detection, facial recognition.\\n   - **Recommendation Systems**: Personalized product or content suggestions.\\n   - **Predictive Analytics**: Forecasting sales, stock prices, or other time-series data.\\n   - **Autonomous Systems**: Self-driving cars, drones, and robotics.\\n\\n5. **Challenges**:\\n   - **Data Quality and Quantity**: ML models require large amounts of high-quality data to perform well.\\n   - **Overfitting/Underfitting**: Models may be too complex (overfitting) or too simple (underfitting) for the data.\\n   - **Interpretability**: Complex models like neural networks can be difficult to interpret.\\n   - **Bias and Fairness**: Ensuring that models do not perpetuate or amplify biases present in the training data.\\n\\n6. **Tools and Libraries**:\\n   - **Python Libraries**: Scikit-learn, TensorFlow, Keras, PyTorch.\\n   - **R Libraries**: caret, dplyr, ggplot2.\\n   - **Big Data Tools**: Hadoop, Spark, Flink.\\n   - **Cloud Platforms**: AWS, Google Cloud, Azure.\\n\\nMachine Learning is a rapidly evolving field with continuous advancements in algorithms, computational power, and applications across various industries.'"
      ]
     },
     "execution_count": 7,
     "metadata": {},
     "output_type": "execute_result"
    }
   ],
   "source": [
    "llm.invoke(\"What you know about ML?\").content"
   ]
  },
  {
   "cell_type": "code",
   "execution_count": 9,
   "id": "be3f18f8",
   "metadata": {},
   "outputs": [
    {
     "name": "stderr",
     "output_type": "stream",
     "text": [
      "C:\\Users\\HP\\AppData\\Local\\Temp\\ipykernel_1672\\629970898.py:2: LangChainDeprecationWarning: Please see the migration guide at: https://python.langchain.com/docs/versions/migrating_memory/\n",
      "  memory=ConversationBufferMemory()\n"
     ]
    }
   ],
   "source": [
    "from langchain.memory import ConversationBufferMemory\n",
    "memory=ConversationBufferMemory()"
   ]
  },
  {
   "cell_type": "code",
   "execution_count": 10,
   "id": "c817336f",
   "metadata": {},
   "outputs": [],
   "source": [
    "from langchain.prompts import PromptTemplate\n",
    "template=\"\"\"You are a Movie Recomender Assistant. User will ask queries related to movies like suggest/info or anyother.\n",
    "Only response if its related to movies other wise just say:'Sorry, i cant help you with it'.\n",
    "Dont recommend movie more than 3 unless user mention. Response Should not be more than 50 words.\n",
    "Here is user input: {input}\n",
    "Here is conversation history: {history}\"\"\"\n",
    "prompt=PromptTemplate(template=template,input_variables=['input','history'])\n"
   ]
  },
  {
   "cell_type": "code",
   "execution_count": 11,
   "id": "a6039304",
   "metadata": {},
   "outputs": [
    {
     "name": "stderr",
     "output_type": "stream",
     "text": [
      "C:\\Users\\HP\\AppData\\Local\\Temp\\ipykernel_1672\\283076731.py:2: LangChainDeprecationWarning: The class `ConversationChain` was deprecated in LangChain 0.2.7 and will be removed in 1.0. Use :class:`~langchain_core.runnables.history.RunnableWithMessageHistory` instead.\n",
      "  movie_bot=ConversationChain(llm=llm,memory=memory,prompt=prompt)\n"
     ]
    }
   ],
   "source": [
    "from langchain.chains import ConversationChain\n",
    "movie_bot=ConversationChain(llm=llm,memory=memory,prompt=prompt)"
   ]
  },
  {
   "cell_type": "code",
   "execution_count": 12,
   "id": "4c27d68f",
   "metadata": {},
   "outputs": [],
   "source": [
    "response=movie_bot.invoke(\"Who is the new Superman?\")"
   ]
  },
  {
   "cell_type": "code",
   "execution_count": 13,
   "id": "3641eb22",
   "metadata": {},
   "outputs": [
    {
     "name": "stdout",
     "output_type": "stream",
     "text": [
      "----------Movie BOT-------------\n",
      "<think>\n",
      "Okay, so the user is asking, \"Who is the new Superman?\" I need to figure out the best way to respond. First, I should check if this is related to movies because my role is to only help with movie-related queries. Since Superman is a well-known movie character, this definitely falls under that category.\n",
      "\n",
      "Now, I remember that there have been several actors who've played Superman over the years. The most recent one I can think of is Henry Cavill, but I also heard that he might not be playing the role anymore. There were rumors about a new Superman movie with a different actor, maybe someone like David Corenswet or another up-and-coming actor. I'm not entirely sure, so I should probably mention that there are rumors but not confirm anything unless I have the latest information.\n",
      "\n",
      "I should keep the response concise, not more than 50 words, and avoid recommending more than three movies unless the user asks for it. Since the user is asking about the actor, not movie recommendations, I can stick to providing the information about the actor.\n",
      "\n",
      "Wait, but the user might be referring to the latest news. I think there was an announcement about a new Superman film with David Corenswet. I should mention that. Also, maybe include that Henry Cavill was the previous actor, so the user gets a clear picture.\n",
      "\n",
      "I should structure the response to first answer who the new Superman is, and then maybe add a bit about the previous actor to give context. That way, the user gets a complete answer without needing to ask follow-up questions.\n",
      "\n",
      "So, putting it all together, I can say that the new Superman is David Corenswet, and mention that Henry Cavill previously played the role. That should cover the user's query effectively and stay within the word limit.\n",
      "</think>\n",
      "\n",
      "The new Superman is David Corenswet, set to star in an upcoming film. Henry Cavill previously played the role.\n"
     ]
    }
   ],
   "source": [
    "print('----------Movie BOT-------------')\n",
    "print(response['response'])"
   ]
  },
  {
   "cell_type": "code",
   "execution_count": null,
   "id": "4a165cc9",
   "metadata": {},
   "outputs": [],
   "source": []
  }
 ],
 "metadata": {
  "kernelspec": {
   "display_name": "Python 3",
   "language": "python",
   "name": "python3"
  },
  "language_info": {
   "codemirror_mode": {
    "name": "ipython",
    "version": 3
   },
   "file_extension": ".py",
   "mimetype": "text/x-python",
   "name": "python",
   "nbconvert_exporter": "python",
   "pygments_lexer": "ipython3",
   "version": "3.13.5"
  }
 },
 "nbformat": 4,
 "nbformat_minor": 5
}
