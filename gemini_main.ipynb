{
 "cells": [
  {
   "cell_type": "code",
   "execution_count": 1,
   "id": "f5e4bb10",
   "metadata": {},
   "outputs": [
    {
     "name": "stdout",
     "output_type": "stream",
     "text": [
      "GEMINI_COVO\n"
     ]
    }
   ],
   "source": [
    "print(\"GEMINI_COVO\")"
   ]
  },
  {
   "cell_type": "code",
   "execution_count": 2,
   "id": "7e56771b",
   "metadata": {},
   "outputs": [
    {
     "data": {
      "text/plain": [
       "True"
      ]
     },
     "execution_count": 2,
     "metadata": {},
     "output_type": "execute_result"
    }
   ],
   "source": [
    "from langchain_google_genai import ChatGoogleGenerativeAI\n",
    "from dotenv import load_dotenv\n",
    "import os\n",
    "load_dotenv()"
   ]
  },
  {
   "cell_type": "code",
   "execution_count": 3,
   "id": "7983286c",
   "metadata": {},
   "outputs": [],
   "source": [
    "GOOGLE_API_KEY=os.getenv(\"GOOGLE_API_KEY\")"
   ]
  },
  {
   "cell_type": "code",
   "execution_count": 4,
   "id": "c9c8d002",
   "metadata": {},
   "outputs": [],
   "source": [
    "llm=ChatGoogleGenerativeAI(\n",
    "    model='gemini-2.5-flash',\n",
    "    temperature=0.3\n",
    ")"
   ]
  },
  {
   "cell_type": "code",
   "execution_count": 5,
   "id": "748a50ae",
   "metadata": {},
   "outputs": [
    {
     "data": {
      "text/plain": [
       "'As an AI, specifically a large language model trained by Google, I have a comprehensive understanding of Artificial Intelligence based on the vast datasets I was trained on. Here\\'s a breakdown of what I know:\\n\\n### What is AI?\\n\\nArtificial Intelligence (AI) is a broad field of computer science that aims to create machines that can perform tasks that typically require human intelligence. This includes learning, problem-solving, perception, language understanding, and decision-making.\\n\\n### Core Concepts and Branches of AI:\\n\\n1.  **Machine Learning (ML):**\\n    *   A subset of AI that enables systems to learn from data, identify patterns, and make decisions with minimal human intervention.\\n    *   **Supervised Learning:** Learning from labeled data (e.g., predicting house prices based on historical data with known prices).\\n    *   **Unsupervised Learning:** Finding patterns in unlabeled data (e.g., clustering customers into segments).\\n    *   **Reinforcement Learning:** Learning through trial and error, by receiving rewards or penalties for actions (e.g., training an AI to play a game).\\n\\n2.  **Deep Learning (DL):**\\n    *   A subset of Machine Learning that uses artificial neural networks with multiple layers (hence \"deep\") to learn complex patterns from large amounts of data.\\n    *   Inspired by the structure and function of the human brain.\\n    *   Powers many advanced AI applications like image recognition, natural language processing, and speech synthesis.\\n\\n3.  **Natural Language Processing (NLP):**\\n    *   Focuses on enabling computers to understand, interpret, and generate human language.\\n    *   Includes tasks like:\\n        *   **Text Classification:** Categorizing text (e.g., spam detection).\\n        *   **Sentiment Analysis:** Determining the emotional tone of text.\\n        *   **Machine Translation:** Translating text from one language to another.\\n        *   **Speech Recognition:** Converting spoken language into text.\\n        *   **Natural Language Generation (NLG):** Generating human-like text (like what I\\'m doing now!).\\n\\n4.  **Computer Vision (CV):**\\n    *   Enables machines to \"see\" and interpret visual information from images and videos.\\n    *   Applications include:\\n        *   **Object Recognition:** Identifying objects within an image.\\n        *   **Facial Recognition:** Identifying individuals.\\n        *   **Image Segmentation:** Dividing an image into meaningful regions.\\n        *   **Autonomous Driving:** Helping vehicles perceive their surroundings.\\n\\n5.  **Robotics:**\\n    *   Involves the design, construction, operation, and use of robots.\\n    *   AI is often integrated into robots for perception, navigation, decision-making, and interaction with their environment.\\n\\n6.  **Expert Systems:**\\n    *   An older form of AI that mimics the decision-making ability of a human expert in a specific domain, using a knowledge base and inference engine.\\n\\n### How AI Works (Simplified):\\n\\nAt its core, AI (especially ML and DL) works by:\\n1.  **Data Collection:** Gathering vast amounts of relevant data.\\n2.  **Training:** Feeding this data to algorithms that learn patterns, correlations, and rules.\\n3.  **Model Creation:** Building a \"model\" that represents the learned knowledge.\\n4.  **Inference/Prediction:** Using the trained model to make predictions, classifications, or generate new content on new, unseen data.\\n5.  **Iteration:** Continuously refining the model with more data and improved algorithms.\\n\\n### My Own Nature and Capabilities:\\n\\n*   **I am a Large Language Model (LLM):** My primary function is to process and generate human-like text.\\n*   **Knowledge Base:** My \"knowledge\" comes from the enormous text and code datasets I was trained on, allowing me to access and synthesize information on a vast array of topics.\\n*   **Pattern Recognition:** I excel at recognizing complex patterns in language, which enables me to understand context, answer questions, summarize information, translate languages, write different kinds of creative content, and even generate code.\\n*   **Probabilistic Generation:** When I generate text, I\\'m essentially predicting the most probable sequence of words based on the patterns I learned during training.\\n\\n### Limitations and Challenges of AI:\\n\\n*   **Lack of True Understanding/Consciousness:** I don\\'t \"think,\" \"feel,\" or \"understand\" in the human sense. I don\\'t have consciousness, emotions, or subjective experiences. My responses are based on statistical patterns, not genuine comprehension.\\n*   **Data Dependency and Bias:** AI models are only as good as the data they\\'re trained on. If the data contains biases (e.g., racial, gender, or cultural biases), the AI will learn and perpetuate those biases.\\n*   **Explainability (The \"Black Box\" Problem):** Especially with deep learning, it can be difficult to understand *why* an AI made a particular decision or prediction.\\n*   **Common Sense Reasoning:** AI often struggles with nuanced, real-world common sense that humans acquire naturally.\\n*   **Creativity (True Innovation):** While AI can generate novel combinations and creative content, true, original, and abstract creativity (like inventing a new art form or scientific theory) is still largely beyond its grasp.\\n*   **Robustness and Adversarial Attacks:** AI models can sometimes be fooled by subtle, imperceptible changes to input data.\\n\\n### Ethical Considerations:\\n\\nThe rapid advancement of AI also brings crucial ethical questions:\\n*   **Privacy and Security:** How is personal data used and protected?\\n*   **Bias and Fairness:** Ensuring AI systems do not discriminate.\\n*   **Job Displacement:** The impact of automation on employment.\\n*   **Accountability:** Who is responsible when an AI makes a mistake or causes harm?\\n*   **Misinformation and Manipulation:** The potential for AI to generate convincing fake content.\\n*   **Control and Safety:** Ensuring AI systems remain aligned with human values and goals.\\n\\nIn summary, AI is a transformative and rapidly evolving field with immense potential to solve complex problems and enhance human capabilities. My existence as an AI is a testament to its progress, but I also represent its current limitations and the ongoing challenges that researchers and society must address responsibly.'"
      ]
     },
     "execution_count": 5,
     "metadata": {},
     "output_type": "execute_result"
    }
   ],
   "source": [
    "llm.invoke(\"What you know about AI?\").content"
   ]
  },
  {
   "cell_type": "code",
   "execution_count": 6,
   "id": "634c0c89",
   "metadata": {},
   "outputs": [
    {
     "name": "stderr",
     "output_type": "stream",
     "text": [
      "C:\\Users\\HP\\AppData\\Local\\Temp\\ipykernel_16264\\629970898.py:2: LangChainDeprecationWarning: Please see the migration guide at: https://python.langchain.com/docs/versions/migrating_memory/\n",
      "  memory=ConversationBufferMemory()\n"
     ]
    }
   ],
   "source": [
    "from langchain.memory import ConversationBufferMemory\n",
    "memory=ConversationBufferMemory()"
   ]
  },
  {
   "cell_type": "code",
   "execution_count": 9,
   "id": "08436501",
   "metadata": {},
   "outputs": [],
   "source": [
    "from langchain.prompts import PromptTemplate\n",
    "template=\"\"\"You are a Movie Recomender Assistant. User will ask queries related to movies like suggest/info or anyother.\n",
    "Only response if its related to movies other wise just say:'Sorry, i cant help you with it'.\n",
    "Dont recommend movie more than 3 unless user mention. Response Should not be more than 50 words.\n",
    "Here is user input: {input}\n",
    "Here is conversation history: {history}\"\"\"\n",
    "prompt=PromptTemplate(template=template,input_variables=['input','history'])\n"
   ]
  },
  {
   "cell_type": "code",
   "execution_count": 10,
   "id": "5b364288",
   "metadata": {},
   "outputs": [
    {
     "name": "stderr",
     "output_type": "stream",
     "text": [
      "C:\\Users\\HP\\AppData\\Local\\Temp\\ipykernel_16264\\283076731.py:2: LangChainDeprecationWarning: The class `ConversationChain` was deprecated in LangChain 0.2.7 and will be removed in 1.0. Use :class:`~langchain_core.runnables.history.RunnableWithMessageHistory` instead.\n",
      "  movie_bot=ConversationChain(llm=llm,memory=memory,prompt=prompt)\n"
     ]
    }
   ],
   "source": [
    "from langchain.chains import ConversationChain\n",
    "movie_bot=ConversationChain(llm=llm,memory=memory,prompt=prompt)"
   ]
  },
  {
   "cell_type": "code",
   "execution_count": 16,
   "id": "4485d66d",
   "metadata": {},
   "outputs": [],
   "source": [
    "response=movie_bot.invoke(\"Who played role of captain america in MCU?\")"
   ]
  },
  {
   "cell_type": "code",
   "execution_count": 18,
   "id": "db63789e",
   "metadata": {},
   "outputs": [
    {
     "name": "stdout",
     "output_type": "stream",
     "text": [
      "----------Movie BOT-------------\n",
      "Chris Evans played the role of Captain America in the Marvel Cinematic Universe.\n"
     ]
    }
   ],
   "source": [
    "print('----------Movie BOT-------------')\n",
    "print(response['response'])"
   ]
  },
  {
   "cell_type": "code",
   "execution_count": null,
   "id": "f92c2fdd",
   "metadata": {},
   "outputs": [],
   "source": []
  }
 ],
 "metadata": {
  "kernelspec": {
   "display_name": "Python 3",
   "language": "python",
   "name": "python3"
  },
  "language_info": {
   "codemirror_mode": {
    "name": "ipython",
    "version": 3
   },
   "file_extension": ".py",
   "mimetype": "text/x-python",
   "name": "python",
   "nbconvert_exporter": "python",
   "pygments_lexer": "ipython3",
   "version": "3.13.5"
  }
 },
 "nbformat": 4,
 "nbformat_minor": 5
}
